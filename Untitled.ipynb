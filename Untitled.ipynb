{
 "cells": [
  {
   "cell_type": "code",
   "execution_count": 63,
   "metadata": {},
   "outputs": [
    {
     "name": "stdout",
     "output_type": "stream",
     "text": [
      "(1393570, 4)\n",
      "(3818, 92)\n",
      "(84849, 6)\n",
      "\n",
      "\n",
      "listing_id     int64\n",
      "date          object\n",
      "available     object\n",
      "price         object\n",
      "dtype: object\n",
      "\n",
      "\n",
      "id                                    int64\n",
      "listing_url                          object\n",
      "scrape_id                             int64\n",
      "last_scraped                         object\n",
      "name                                 object\n",
      "                                     ...   \n",
      "cancellation_policy                  object\n",
      "require_guest_profile_picture        object\n",
      "require_guest_phone_verification     object\n",
      "calculated_host_listings_count        int64\n",
      "reviews_per_month                   float64\n",
      "Length: 92, dtype: object\n",
      "\n",
      "\n",
      "listing_id        int64\n",
      "id                int64\n",
      "date             object\n",
      "reviewer_id       int64\n",
      "reviewer_name    object\n",
      "comments         object\n",
      "dtype: object\n"
     ]
    }
   ],
   "source": [
    "import pandas as pd\n",
    "import numpy as np\n",
    "\n",
    "df_calendar = pd.read_csv(r'C:\\Users\\Scott\\Desktop\\Udacity Project\\archive\\calendar.csv')\n",
    "df_listings = pd.read_csv(r'C:\\Users\\Scott\\Desktop\\Udacity Project\\archive\\listings.csv')\n",
    "df_reviews = pd.read_csv(r'C:\\Users\\Scott\\Desktop\\Udacity Project\\archive\\reviews.csv')\n",
    "\n",
    "#! dir\n",
    "print(df_calendar.shape)\n",
    "print(df_listings.shape)\n",
    "print(df_reviews.shape)\n",
    "print(\"\\n\")\n",
    "print(df_calendar.dtypes)\n",
    "print(\"\\n\")\n",
    "print(df_listings.dtypes)\n",
    "print(\"\\n\")\n",
    "print(df_reviews.dtypes)"
   ]
  },
  {
   "cell_type": "code",
   "execution_count": null,
   "metadata": {},
   "outputs": [],
   "source": []
  }
 ],
 "metadata": {
  "kernelspec": {
   "display_name": "Python 3",
   "language": "python",
   "name": "python3"
  },
  "language_info": {
   "codemirror_mode": {
    "name": "ipython",
    "version": 3
   },
   "file_extension": ".py",
   "mimetype": "text/x-python",
   "name": "python",
   "nbconvert_exporter": "python",
   "pygments_lexer": "ipython3",
   "version": "3.8.5"
  }
 },
 "nbformat": 4,
 "nbformat_minor": 4
}
